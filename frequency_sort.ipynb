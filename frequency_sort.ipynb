{
 "cells": [
  {
   "cell_type": "code",
   "execution_count": 25,
   "metadata": {},
   "outputs": [],
   "source": [
    "\n",
    "    def frequencySort(nums):\n",
    "        \n",
    "        d={}\n",
    "        di={}\n",
    "        seen=set()\n",
    "        a=[]\n",
    "        b=[]\n",
    "    \n",
    "    #Creating a dictionary of frequency\n",
    "        for i in nums:\n",
    "            if i not in seen:\n",
    "                seen.add(i)\n",
    "                d[i]=1\n",
    "            else:\n",
    "                d[i]=d[i]+1\n",
    "     \n",
    "   #Storing in lists in same order frequency and elements\n",
    "        for i in d:\n",
    "            a.append(i)\n",
    "            b.append(d[i])    \n",
    "        \n",
    "   #Doing selection sorting on elements (Ascending Order)\n",
    "        for j in range(0,len(a)):\n",
    "            for i in range(0,len(a)-1-j):\n",
    "            \n",
    "                if (b[i]>b[i+1]):\n",
    "                    a[i+1],a[i]=a[i],a[i+1]\n",
    "                    b[i+1],b[i]=b[i],b[i+1]\n",
    "                \n",
    "        for i in range(0,len(a)):\n",
    "            for j in range(i,len(a)-1):\n",
    "            \n",
    "                if(b[i]==b[j+1]):\n",
    "                    if(a[i]<a[j+1]):\n",
    "                        a[i],a[j+1]=a[j+1],a[i]\n",
    "            \n",
    "   #Storing them in the list\n",
    "        c=[]\n",
    "        for i in a:\n",
    "            for j in range(0,d[i]):\n",
    "                c.append(i)\n",
    "    \n",
    "        \n",
    "    \n",
    "        \n",
    "        return c  \n",
    "    "
   ]
  },
  {
   "cell_type": "code",
   "execution_count": 27,
   "metadata": {},
   "outputs": [
    {
     "data": {
      "text/plain": [
       "[3, 1, 1, 2, 2, 2]"
      ]
     },
     "execution_count": 27,
     "metadata": {},
     "output_type": "execute_result"
    }
   ],
   "source": [
    "arr=[1,1,2,2,2,3]\n",
    "frequencySort(arr)"
   ]
  },
  {
   "cell_type": "code",
   "execution_count": 28,
   "metadata": {},
   "outputs": [
    {
     "data": {
      "text/plain": [
       "[8, 2, -3, -5, -8, -8]"
      ]
     },
     "execution_count": 28,
     "metadata": {},
     "output_type": "execute_result"
    }
   ],
   "source": [
    "arr=[2,-8,8,-8,-5,-3]\n",
    "frequencySort(arr)"
   ]
  },
  {
   "cell_type": "code",
   "execution_count": 29,
   "metadata": {},
   "outputs": [
    {
     "data": {
      "text/plain": [
       "[5, -1, 4, 4, -6, -6, 1, 1, 1]"
      ]
     },
     "execution_count": 29,
     "metadata": {},
     "output_type": "execute_result"
    }
   ],
   "source": [
    "arr=[-1,1,-6,4,5,-6,1,4,1]\n",
    "frequencySort(arr)"
   ]
  },
  {
   "cell_type": "code",
   "execution_count": 30,
   "metadata": {},
   "outputs": [
    {
     "data": {
      "text/plain": [
       "[5, 3, 0, -1, 7, 7, -8, -8, -8]"
      ]
     },
     "execution_count": 30,
     "metadata": {},
     "output_type": "execute_result"
    }
   ],
   "source": [
    "arr=[-8,7,-1,3,5,7,-8,-8,0]\n",
    "frequencySort(arr)"
   ]
  },
  {
   "cell_type": "code",
   "execution_count": null,
   "metadata": {},
   "outputs": [],
   "source": []
  }
 ],
 "metadata": {
  "kernelspec": {
   "display_name": "Python 3",
   "language": "python",
   "name": "python3"
  },
  "language_info": {
   "codemirror_mode": {
    "name": "ipython",
    "version": 3
   },
   "file_extension": ".py",
   "mimetype": "text/x-python",
   "name": "python",
   "nbconvert_exporter": "python",
   "pygments_lexer": "ipython3",
   "version": "3.6.9"
  }
 },
 "nbformat": 4,
 "nbformat_minor": 2
}
